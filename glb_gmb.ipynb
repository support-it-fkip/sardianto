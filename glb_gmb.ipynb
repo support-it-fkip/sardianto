{
  "nbformat": 4,
  "nbformat_minor": 0,
  "metadata": {
    "colab": {
      "provenance": [],
      "authorship_tag": "ABX9TyOwAuBAGr42+pF45YpDWbsA",
      "include_colab_link": true
    },
    "kernelspec": {
      "name": "python3",
      "display_name": "Python 3"
    },
    "language_info": {
      "name": "python"
    }
  },
  "cells": [
    {
      "cell_type": "markdown",
      "metadata": {
        "id": "view-in-github",
        "colab_type": "text"
      },
      "source": [
        "<a href=\"https://colab.research.google.com/github/support-it-fkip/sardianto/blob/main/glb_gmb.ipynb\" target=\"_parent\"><img src=\"https://colab.research.google.com/assets/colab-badge.svg\" alt=\"Open In Colab\"/></a>"
      ]
    },
    {
      "cell_type": "code",
      "execution_count": null,
      "metadata": {
        "id": "pY21cHmffqas"
      },
      "outputs": [],
      "source": [
        "# Gerak Lurus Beraturan & Gerak Melingkar Beraturan\n",
        "import numpy as np\n",
        "import matplotlib.pyplot as plt\n",
        "\n",
        "def hitung_glbb(t, s0=0, v0=2, a=1):\n",
        "    \"\"\"Menghitung posisi, kecepatan, dan percepatan untuk GLBB.\"\"\"\n",
        "    s = s0 + v0 * t + 0.5 * a * t**2\n",
        "    v = v0 + a * t\n",
        "    accel = np.ones_like(t) * a\n",
        "    return s, v, accel\n",
        "\n",
        "def plot_glbb(t, s, v, a):\n",
        "    \"\"\"Membuat plot untuk data GLBB.\"\"\"\n",
        "    plt.figure(figsize=(10, 8))\n",
        "    plt.suptitle(\"Gerak Lurus Berubah Beraturan (GLBB)\", fontsize=16)\n",
        "\n",
        "    # Plot Posisi vs Waktu\n",
        "    plt.subplot(3, 1, 1)\n",
        "    plt.plot(t, s, 'b-')\n",
        "    plt.ylabel(\"Posisi (m)\")\n",
        "    plt.grid(True)\n",
        "\n",
        "    # Plot Kecepatan vs Waktu\n",
        "    plt.subplot(3, 1, 2)\n",
        "    plt.plot(t, v, 'g-')\n",
        "    plt.ylabel(\"Kecepatan (m/s)\")\n",
        "    plt.grid(True)\n",
        "\n",
        "    # Plot Percepatan vs Waktu\n",
        "    plt.subplot(3, 1, 3)\n",
        "    plt.plot(t, a, 'r-')\n",
        "    plt.ylabel(\"Percepatan (m/s²)\")\n",
        "    plt.xlabel(\"Waktu (s)\")\n",
        "    plt.grid(True)\n",
        "\n",
        "    plt.tight_layout(rect=[0, 0.03, 1, 0.95])\n",
        "    plt.show()\n",
        "\n",
        "def hitung_gmb(t, R=5, w=2):\n",
        "    \"\"\"Menghitung posisi, kecepatan, dan percepatan untuk GMB.\"\"\"\n",
        "    theta = w * t\n",
        "    x = R * np.cos(theta)\n",
        "    y = R * np.sin(theta)\n",
        "    vx = -R * w * np.sin(theta)\n",
        "    vy = R * w * np.cos(theta)\n",
        "    ax = -R * w**2 * np.cos(theta)\n",
        "    ay = -R * w**2 * np.sin(theta)\n",
        "    return x, y, vx, vy, ax, ay\n",
        "\n",
        "def plot_gmb(t, x, y, vx, vy, ax, ay):\n",
        "    \"\"\"Membuat plot untuk data GMB.\"\"\"\n",
        "    # Plot Lintasan\n",
        "    plt.figure(figsize=(6, 6))\n",
        "    plt.plot(x, y, 'b-')\n",
        "    plt.title(\"Lintasan Gerak Melingkar Beraturan\")\n",
        "    plt.xlabel(\"Posisi x (m)\")\n",
        "    plt.ylabel(\"Posisi y (m)\")\n",
        "    plt.axis(\"equal\")\n",
        "    plt.grid(True)\n",
        "    plt.show()\n",
        "\n",
        "    # Plot Komponen Kecepatan dan Percepatan\n",
        "    plt.figure(figsize=(10, 8))\n",
        "    plt.suptitle(\"Komponen Gerak Melingkar vs Waktu\", fontsize=16)\n",
        "\n",
        "    plt.subplot(2, 1, 1)\n",
        "    plt.plot(t, vx, label=\"vx (kecepatan-x)\")\n",
        "    plt.plot(t, vy, label=\"vy (kecepatan-y)\")\n",
        "    plt.ylabel(\"Kecepatan (m/s)\")\n",
        "    plt.legend()\n",
        "    plt.grid(True)\n",
        "\n",
        "    plt.subplot(2, 1, 2)\n",
        "    plt.plot(t, ax, label=\"ax (percepatan-x)\")\n",
        "    plt.plot(t, ay, label=\"ay (percepatan-y)\")\n",
        "    plt.ylabel(\"Percepatan (m/s²)\")\n",
        "    plt.xlabel(\"Waktu (s)\")\n",
        "    plt.legend()\n",
        "    plt.grid(True)\n",
        "\n",
        "    plt.tight_layout(rect=[0, 0.03, 1, 0.95])\n",
        ""
      ]
    }
  ]
}